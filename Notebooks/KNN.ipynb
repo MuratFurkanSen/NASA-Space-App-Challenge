{
 "cells": [
  {
   "cell_type": "code",
   "id": "1c9b8b26",
   "metadata": {
    "ExecuteTime": {
     "end_time": "2025-10-05T05:33:25.144286Z",
     "start_time": "2025-10-05T05:33:25.137957Z"
    }
   },
   "source": [
    "import numpy as np\n",
    "import pandas as pd\n",
    "\n",
    "pd.set_option('display.float_format', '{:.10f}'.format)\n",
    "\n",
    "import matplotlib.pyplot as plt\n",
    "import seaborn as sns\n",
    "\n",
    "from sklearn.model_selection import train_test_split\n",
    "from sklearn.preprocessing import StandardScaler\n",
    "from sklearn.neighbors import KNeighborsClassifier\n",
    "from sklearn.metrics import classification_report, accuracy_score\n",
    "\n",
    "from ModelPipeline import create_pipeline\n",
    "import joblib\n",
    "\n",
    "%matplotlib inline"
   ],
   "outputs": [],
   "execution_count": 8
  },
  {
   "cell_type": "code",
   "id": "55f6f0a7",
   "metadata": {
    "ExecuteTime": {
     "end_time": "2025-10-05T05:32:10.063799Z",
     "start_time": "2025-10-05T05:32:09.834819Z"
    }
   },
   "source": "df_ml =  pd.read_csv('../Shared Data.csv')",
   "outputs": [],
   "execution_count": 2
  },
  {
   "cell_type": "code",
   "id": "c50ea987",
   "metadata": {
    "ExecuteTime": {
     "end_time": "2025-10-05T05:32:10.135466Z",
     "start_time": "2025-10-05T05:32:10.098675Z"
    }
   },
   "source": [
    "X = df_ml.drop(['rowid', 'koi_disposition'], axis=1)\n",
    "y = df_ml['koi_disposition']\n",
    "X_train, X_test, y_train, y_test = train_test_split(\n",
    "    X, y, test_size=0.25, random_state=42, stratify=y\n",
    ")\n"
   ],
   "outputs": [],
   "execution_count": 3
  },
  {
   "cell_type": "code",
   "id": "7f0044ce",
   "metadata": {
    "ExecuteTime": {
     "end_time": "2025-10-05T05:32:38.292524Z",
     "start_time": "2025-10-05T05:32:36.393918Z"
    }
   },
   "source": [
    "# 1. Model nesnesini oluştur (k=7 seçildi)\n",
    "k = 7\n",
    "knn_model = KNeighborsClassifier(n_neighbors=k)\n",
    "model_pipeline = create_pipeline(knn_model)\n",
    "\n",
    "# 2. Modeli eğitim verileriyle eğit\n",
    "model_pipeline.fit(X_train, y_train)\n",
    "\n",
    "# 3. Test seti üzerinde tahmin yap"
   ],
   "outputs": [],
   "execution_count": 5
  },
  {
   "cell_type": "code",
   "id": "ad70c005",
   "metadata": {
    "ExecuteTime": {
     "end_time": "2025-10-05T05:32:50.640664Z",
     "start_time": "2025-10-05T05:32:50.532711Z"
    }
   },
   "source": [
    "# Doğruluk Puanını hesapla\n",
    "y_pred = model_pipeline.predict(X_test)\n",
    "accuracy = accuracy_score(y_test, y_pred)\n",
    "\n",
    "print(f\"Seçilen Komşu Sayısı (k): {k}\")\n",
    "print(f\"Test Veri Seti Doğruluğu: {accuracy:.4f}\")\n",
    "\n",
    "print(\"\\nSınıflandırma Raporu:\")\n",
    "print(classification_report(y_test, y_pred))"
   ],
   "outputs": [
    {
     "name": "stdout",
     "output_type": "stream",
     "text": [
      "Seçilen Komşu Sayısı (k): 7\n",
      "Test Veri Seti Doğruluğu: 0.8386\n",
      "\n",
      "Sınıflandırma Raporu:\n",
      "                precision    recall  f1-score   support\n",
      "\n",
      "     CANDIDATE       0.66      0.53      0.59       495\n",
      "     CONFIRMED       0.82      0.93      0.87       686\n",
      "FALSE POSITIVE       0.91      0.91      0.91      1210\n",
      "\n",
      "      accuracy                           0.84      2391\n",
      "     macro avg       0.80      0.79      0.79      2391\n",
      "  weighted avg       0.83      0.84      0.83      2391\n",
      "\n"
     ]
    }
   ],
   "execution_count": 6
  },
  {
   "cell_type": "code",
   "id": "172dc550",
   "metadata": {
    "ExecuteTime": {
     "end_time": "2025-10-05T05:33:39.702698Z",
     "start_time": "2025-10-05T05:33:39.686924Z"
    }
   },
   "source": "joblib.dump(model_pipeline, '../Trained Models/KNN Model.joblib')",
   "outputs": [
    {
     "data": {
      "text/plain": [
       "['../Trained Models/KNN Model.joblib']"
      ]
     },
     "execution_count": 9,
     "metadata": {},
     "output_type": "execute_result"
    }
   ],
   "execution_count": 9
  },
  {
   "cell_type": "code",
   "execution_count": null,
   "id": "64de8fd5",
   "metadata": {},
   "outputs": [],
   "source": []
  }
 ],
 "metadata": {
  "kernelspec": {
   "display_name": "Python 3",
   "language": "python",
   "name": "python3"
  },
  "language_info": {
   "codemirror_mode": {
    "name": "ipython",
    "version": 3
   },
   "file_extension": ".py",
   "mimetype": "text/x-python",
   "name": "python",
   "nbconvert_exporter": "python",
   "pygments_lexer": "ipython3",
   "version": "3.10.12"
  }
 },
 "nbformat": 4,
 "nbformat_minor": 5
}
